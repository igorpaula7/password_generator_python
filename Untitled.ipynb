{
 "cells": [
  {
   "cell_type": "markdown",
   "id": "212b5119",
   "metadata": {},
   "source": [
    "# Python Password Generator"
   ]
  },
  {
   "cell_type": "markdown",
   "id": "48f3dbf5",
   "metadata": {},
   "source": [
    "Importando biblioteca usada para fazer a randomização dos caracteres."
   ]
  },
  {
   "cell_type": "code",
   "execution_count": null,
   "id": "57a7266e",
   "metadata": {},
   "outputs": [],
   "source": [
    "import random"
   ]
  },
  {
   "cell_type": "markdown",
   "id": "a7c7dc4b",
   "metadata": {},
   "source": [
    "Definindo o que é minúsculo, maiúsculo, número e adicionando a cedilha."
   ]
  },
  {
   "cell_type": "code",
   "execution_count": 2,
   "id": "ce3b4d6c",
   "metadata": {},
   "outputs": [],
   "source": [
    "minusc = \"abcdefghijklmnopqrstuvwxyz\"\n",
    "maiusc = \"ABCDEFGHIJKLMNOPQRSTUVWXYZ\"\n",
    "numeros = \"1234567890\"\n",
    "cedilha = \"ç\""
   ]
  },
  {
   "cell_type": "markdown",
   "id": "e7fad14d",
   "metadata": {},
   "source": [
    "Definindo onde ocorrerá a randomização, e o tamanho da senha."
   ]
  },
  {
   "cell_type": "code",
   "execution_count": 3,
   "id": "3bab4549",
   "metadata": {},
   "outputs": [],
   "source": [
    "randomize = minusc + maiusc + numeros\n",
    "tamanho = 7"
   ]
  },
  {
   "cell_type": "markdown",
   "id": "3d0a638a",
   "metadata": {},
   "source": [
    "Criando a senha, com a randomização de sete caracteres e o cedilha."
   ]
  },
  {
   "cell_type": "code",
   "execution_count": 4,
   "id": "7d5d70a3",
   "metadata": {},
   "outputs": [],
   "source": [
    "password = \"\".join(random.sample(randomize, tamanho)) + cedilha"
   ]
  },
  {
   "cell_type": "markdown",
   "id": "dd2a89b6",
   "metadata": {},
   "source": [
    "Imprime a senha gerada na tela do usuário."
   ]
  },
  {
   "cell_type": "code",
   "execution_count": 5,
   "id": "ac052ead",
   "metadata": {},
   "outputs": [
    {
     "name": "stdout",
     "output_type": "stream",
     "text": [
      "Recomendação de senha: jy48NWhç\n"
     ]
    }
   ],
   "source": [
    "print(\"Recomendação de senha:\", password)"
   ]
  }
 ],
 "metadata": {
  "kernelspec": {
   "display_name": "Python 3 (ipykernel)",
   "language": "python",
   "name": "python3"
  },
  "language_info": {
   "codemirror_mode": {
    "name": "ipython",
    "version": 3
   },
   "file_extension": ".py",
   "mimetype": "text/x-python",
   "name": "python",
   "nbconvert_exporter": "python",
   "pygments_lexer": "ipython3",
   "version": "3.11.0"
  }
 },
 "nbformat": 4,
 "nbformat_minor": 5
}
